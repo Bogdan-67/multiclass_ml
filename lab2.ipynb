{
 "nbformat": 4,
 "nbformat_minor": 0,
 "metadata": {
  "colab": {
   "provenance": []
  },
  "kernelspec": {
   "name": "python3",
   "language": "python",
   "display_name": "Python 3 (ipykernel)"
  },
  "language_info": {
   "name": "python"
  }
 },
 "cells": [
  {
   "cell_type": "markdown",
   "source": [
    "#Лабораторная работа №2\n",
    "\n",
    "Создание нейронной сети, выполняющей мультиклассовую классификацию"
   ],
   "metadata": {
    "id": "lDJJ0cNmdgKQ"
   }
  },
  {
   "cell_type": "markdown",
   "source": [
    "**Задание (базовый уровень):**\n",
    "Создать модель (без использования готовых решений) перцептрона, которая будет определять к какому классу относится релультат операции {+, -}: {отрицательное число, ноль, положительное число}.\n",
    "\n",
    "**Задание (повышенный уровень):**\n",
    "Создать модель (без использования готовых решений) перцептрона, которая будет определять к какому классу относится релультат операции {+, -, /, *}: {отрицательное число, ноль, положительное число, inf}."
   ],
   "metadata": {
    "collapsed": false
   }
  },
  {
   "cell_type": "code",
   "execution_count": 908,
   "outputs": [],
   "source": [
    "import numpy as np\n",
    "import random"
   ],
   "metadata": {
    "collapsed": false,
    "ExecuteTime": {
     "end_time": "2024-03-22T13:51:24.435863100Z",
     "start_time": "2024-03-22T13:51:24.419794900Z"
    }
   }
  },
  {
   "cell_type": "code",
   "execution_count": 909,
   "outputs": [],
   "source": [
    "import random\n",
    "\n",
    "dataset = list()\n",
    "\n",
    "actions = ['+','-']\n",
    "\n",
    "\n",
    "for i in range(10000):\n",
    "  temp = list()\n",
    "  temp.append(random.randint(-100, 100) * 0.01)\n",
    "  temp.append(random.randint(-100, 100) * 0.01)\n",
    "  temp.append(random.randint(0, 1))\n",
    "  if temp[2]:\n",
    "    if temp[0] - temp[1] < 0:\n",
    "      temp.append(0)\n",
    "    elif temp[0] - temp[1] == 0:\n",
    "      temp.append(1)\n",
    "    else:\n",
    "      temp.append(2)\n",
    "  else:\n",
    "    if temp[0] + temp[1] < 0:\n",
    "      temp.append(0)\n",
    "    elif temp[0] + temp[1] == 0:\n",
    "      temp.append(1)\n",
    "    else:\n",
    "      temp.append(2)\n",
    "  dataset.append(temp)\n"
   ],
   "metadata": {
    "collapsed": false,
    "ExecuteTime": {
     "end_time": "2024-03-22T13:51:24.468568600Z",
     "start_time": "2024-03-22T13:51:24.424343400Z"
    }
   }
  },
  {
   "cell_type": "code",
   "execution_count": 910,
   "outputs": [
    {
     "data": {
      "text/plain": "[-0.5, -1.0, 1, 2]"
     },
     "execution_count": 910,
     "metadata": {},
     "output_type": "execute_result"
    }
   ],
   "source": [
    "random.choice(dataset)"
   ],
   "metadata": {
    "collapsed": false,
    "ExecuteTime": {
     "end_time": "2024-03-22T13:51:24.469511300Z",
     "start_time": "2024-03-22T13:51:24.449909500Z"
    }
   }
  },
  {
   "cell_type": "code",
   "execution_count": 911,
   "outputs": [],
   "source": [
    "first_layer_weights = np.ones((2, 2, 3))"
   ],
   "metadata": {
    "collapsed": false,
    "ExecuteTime": {
     "end_time": "2024-03-22T13:51:24.469511300Z",
     "start_time": "2024-03-22T13:51:24.454491200Z"
    }
   }
  },
  {
   "cell_type": "code",
   "execution_count": 912,
   "outputs": [],
   "source": [
    "def result_multiclass(sum_array: list):\n",
    "  return sum_array.index(max(sum_array))"
   ],
   "metadata": {
    "collapsed": false,
    "ExecuteTime": {
     "end_time": "2024-03-22T13:51:24.469511300Z",
     "start_time": "2024-03-22T13:51:24.458790Z"
    }
   }
  },
  {
   "cell_type": "code",
   "execution_count": 913,
   "outputs": [],
   "source": [
    "def calculate_res_multiclass(input_action: list, first_layer_weights: list):\n",
    "  sum_array = list()\n",
    "  for j in range(3):\n",
    "    sum_array.append(0)\n",
    "    for i in range(2):\n",
    "      sum_array[j] += input_action[i] * first_layer_weights[input_action[2]][i][j]\n",
    "  return sum_array"
   ],
   "metadata": {
    "collapsed": false,
    "ExecuteTime": {
     "end_time": "2024-03-22T13:51:24.469511300Z",
     "start_time": "2024-03-22T13:51:24.461796200Z"
    }
   }
  },
  {
   "cell_type": "code",
   "execution_count": 914,
   "outputs": [],
   "source": [
    "def learn(input_action: list, first_layer_weights: list):\n",
    "  if (result_multiclass(calculate_res_multiclass(input_action, first_layer_weights)) != input_action[3]):\n",
    "    for j in range(3):\n",
    "      if j == input_action[3]:\n",
    "        k = 0.5\n",
    "      else:\n",
    "        k = -0.1\n",
    "      for i in range(2):\n",
    "        first_layer_weights[input_action[2]][i][j] += input_action[i] * k\n",
    "  return first_layer_weights"
   ],
   "metadata": {
    "collapsed": false,
    "ExecuteTime": {
     "end_time": "2024-03-22T13:51:24.470510600Z",
     "start_time": "2024-03-22T13:51:24.464819500Z"
    }
   }
  },
  {
   "cell_type": "code",
   "execution_count": 915,
   "outputs": [],
   "source": [
    "def train_nn(input_dataset, first_layer_weights, size_of_dataset):\n",
    "  for i in range(size_of_dataset):\n",
    "    learn(random.choice(input_dataset), first_layer_weights)"
   ],
   "metadata": {
    "collapsed": false,
    "ExecuteTime": {
     "end_time": "2024-03-22T13:51:24.476401500Z",
     "start_time": "2024-03-22T13:51:24.469511300Z"
    }
   }
  },
  {
   "cell_type": "code",
   "execution_count": 916,
   "outputs": [],
   "source": [
    "train_nn(dataset, first_layer_weights, 800)"
   ],
   "metadata": {
    "collapsed": false,
    "ExecuteTime": {
     "end_time": "2024-03-22T13:51:24.482151800Z",
     "start_time": "2024-03-22T13:51:24.474402400Z"
    }
   }
  },
  {
   "cell_type": "code",
   "execution_count": 917,
   "outputs": [
    {
     "data": {
      "text/plain": "array([[[ 0.171,  1.173,  2.127],\n        [-0.922,  0.938,  2.18 ]],\n\n       [[-0.257,  0.877,  2.209],\n        [ 2.145,  0.891, -0.249]]])"
     },
     "execution_count": 917,
     "metadata": {},
     "output_type": "execute_result"
    }
   ],
   "source": [
    "first_layer_weights"
   ],
   "metadata": {
    "collapsed": false,
    "ExecuteTime": {
     "end_time": "2024-03-22T13:51:24.489640600Z",
     "start_time": "2024-03-22T13:51:24.481151800Z"
    }
   }
  },
  {
   "cell_type": "code",
   "execution_count": 918,
   "outputs": [],
   "source": [
    "def test_multiclass(input_action, first_layer_weights):\n",
    "  if (result_multiclass(calculate_res_multiclass(input_action, first_layer_weights)) == input_action[3]):\n",
    "    return 1\n",
    "  else:\n",
    "    return 0"
   ],
   "metadata": {
    "collapsed": false,
    "ExecuteTime": {
     "end_time": "2024-03-22T13:51:24.535982100Z",
     "start_time": "2024-03-22T13:51:24.486943600Z"
    }
   }
  },
  {
   "cell_type": "code",
   "execution_count": 919,
   "outputs": [],
   "source": [
    "def test_nn_mc(input_dataset, first_layer_weights, size_of_dataset):\n",
    "  res = 0\n",
    "  for i in range(size_of_dataset):\n",
    "    res += test_multiclass(random.choice(dataset), first_layer_weights)\n",
    "  return (res / size_of_dataset)"
   ],
   "metadata": {
    "collapsed": false,
    "ExecuteTime": {
     "end_time": "2024-03-22T13:51:24.546983300Z",
     "start_time": "2024-03-22T13:51:24.490640400Z"
    }
   }
  },
  {
   "cell_type": "code",
   "execution_count": 920,
   "outputs": [
    {
     "name": "stdout",
     "output_type": "stream",
     "text": [
      "Accuracy score:  0.943\n"
     ]
    }
   ],
   "source": [
    "print('Accuracy score: ', test_nn_mc(dataset, first_layer_weights, 2000))"
   ],
   "metadata": {
    "collapsed": false,
    "ExecuteTime": {
     "end_time": "2024-03-22T13:51:24.547983800Z",
     "start_time": "2024-03-22T13:51:24.495151700Z"
    }
   }
  },
  {
   "cell_type": "markdown",
   "source": [],
   "metadata": {
    "collapsed": false
   }
  }
 ]
}
